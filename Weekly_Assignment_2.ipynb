{
 "cells": [
  {
   "cell_type": "code",
   "execution_count": 1,
   "metadata": {
    "id": "df68b009"
   },
   "outputs": [],
   "source": [
    "import numpy as np\n",
    "import pandas as pd\n",
    "import seaborn as sns\n",
    "import matplotlib.pyplot as plt\n",
    "%matplotlib inline\n",
    "from sklearn import metrics\n",
    "from sklearn.model_selection import train_test_split\n"
   ]
  },
  {
   "cell_type": "code",
   "execution_count": 2,
   "metadata": {
    "id": "20be4fc8"
   },
   "outputs": [],
   "source": [
    "from sklearn.datasets import load_iris\n",
    "dataset = load_iris()"
   ]
  },
  {
   "cell_type": "code",
   "execution_count": 3,
   "metadata": {
    "colab": {
     "base_uri": "https://localhost:8080/"
    },
    "id": "25b796b5",
    "outputId": "1a3db629-b907-41cc-ed5d-90de3576422e"
   },
   "outputs": [
    {
     "name": "stdout",
     "output_type": "stream",
     "text": [
      "[[5.1 3.5 1.4 0.2]\n",
      " [4.9 3.  1.4 0.2]\n",
      " [4.7 3.2 1.3 0.2]\n",
      " [4.6 3.1 1.5 0.2]\n",
      " [5.  3.6 1.4 0.2]\n",
      " [5.4 3.9 1.7 0.4]\n",
      " [4.6 3.4 1.4 0.3]\n",
      " [5.  3.4 1.5 0.2]\n",
      " [4.4 2.9 1.4 0.2]\n",
      " [4.9 3.1 1.5 0.1]]\n"
     ]
    },
    {
     "data": {
      "text/plain": [
       "(150, 4)"
      ]
     },
     "execution_count": 3,
     "metadata": {},
     "output_type": "execute_result"
    }
   ],
   "source": [
    "print(dataset.data[:10])\n",
    "dataset.data.shape"
   ]
  },
  {
   "cell_type": "code",
   "execution_count": 4,
   "metadata": {
    "colab": {
     "base_uri": "https://localhost:8080/"
    },
    "id": "1f4ac1c5",
    "outputId": "29878dbd-3663-42d2-f772-d8f4926da48d"
   },
   "outputs": [
    {
     "name": "stdout",
     "output_type": "stream",
     "text": [
      "['sepal length (cm)', 'sepal width (cm)', 'petal length (cm)', 'petal width (cm)']\n"
     ]
    }
   ],
   "source": [
    "print(dataset.feature_names)"
   ]
  },
  {
   "cell_type": "code",
   "execution_count": 5,
   "metadata": {
    "colab": {
     "base_uri": "https://localhost:8080/"
    },
    "id": "eff5b54a",
    "outputId": "a94fbe7e-2a2c-4b1d-e6b6-d2dbe3f988db"
   },
   "outputs": [
    {
     "name": "stdout",
     "output_type": "stream",
     "text": [
      "[0 0 0 0 0 0 0 0 0 0 0 0 0 0 0 0 0 0 0 0 0 0 0 0 0 0 0 0 0 0 0 0 0 0 0 0 0\n",
      " 0 0 0 0 0 0 0 0 0 0 0 0 0 1 1 1 1 1 1 1 1 1 1 1 1 1 1 1 1 1 1 1 1 1 1 1 1\n",
      " 1 1 1 1 1 1 1 1 1 1 1 1 1 1 1 1 1 1 1 1 1 1 1 1 1 1 2 2 2 2 2 2 2 2 2 2 2\n",
      " 2 2 2 2 2 2 2 2 2 2 2 2 2 2 2 2 2 2 2 2 2 2 2 2 2 2 2 2 2 2 2 2 2 2 2 2 2\n",
      " 2 2] ['setosa' 'versicolor' 'virginica']\n"
     ]
    },
    {
     "data": {
      "text/plain": [
       "(150,)"
      ]
     },
     "execution_count": 5,
     "metadata": {},
     "output_type": "execute_result"
    }
   ],
   "source": [
    "print(dataset.target, dataset.target_names)\n",
    "dataset.target.shape"
   ]
  },
  {
   "cell_type": "code",
   "execution_count": 6,
   "metadata": {
    "colab": {
     "base_uri": "https://localhost:8080/",
     "height": 297
    },
    "id": "d063727f",
    "outputId": "b794a174-6d2c-4c77-b11b-6d05ac786c05"
   },
   "outputs": [
    {
     "data": {
      "image/png": "[encoded data removed]",
      "text/plain": [
       "<Figure size 360x288 with 2 Axes>"
      ]
     },
     "metadata": {
      "needs_background": "light"
     },
     "output_type": "display_data"
    }
   ],
   "source": [
    "x_index = 0\n",
    "y_index = 1\n",
    "\n",
    "# this formatter will label the colorbar with the correct target names\n",
    "formatter = plt.FuncFormatter(lambda i, *args: dataset.target_names[int(i)])\n",
    "\n",
    "plt.figure(figsize=(5, 4))\n",
    "plt.scatter(dataset.data[:, x_index], dataset.data[:, y_index], c=dataset.target)\n",
    "plt.colorbar(ticks=[0, 1, 2], format=formatter)\n",
    "plt.xlabel(dataset.feature_names[x_index])\n",
    "plt.ylabel(dataset.feature_names[y_index])\n",
    "\n",
    "plt.tight_layout()\n",
    "plt.show()"
   ]
  },
  {
   "cell_type": "code",
   "execution_count": 7,
   "metadata": {
    "colab": {
     "base_uri": "https://localhost:8080/"
    },
    "id": "af0bd7fc",
    "outputId": "9929eea0-60be-4838-92ed-297f08f17d2c"
   },
   "outputs": [
    {
     "name": "stdout",
     "output_type": "stream",
     "text": [
      "(105, 4)\n",
      "(105,)\n",
      "(45, 4)\n",
      "(45,)\n"
     ]
    }
   ],
   "source": [
    "x_train, x_test, y_train, y_test = train_test_split(dataset.data, dataset.target, test_size=0.3)\n",
    "print(x_train.shape)\n",
    "print(y_train.shape)\n",
    "print(x_test.shape)\n",
    "print(y_test.shape)"
   ]
  },
  {
   "cell_type": "code",
   "execution_count": 8,
   "metadata": {
    "colab": {
     "base_uri": "https://localhost:8080/"
    },
    "id": "a5bda477",
    "outputId": "26663c75-0bcb-400a-c7b3-44956fb03e3d",
    "scrolled": true
   },
   "outputs": [
    {
     "name": "stdout",
     "output_type": "stream",
     "text": [
      "[[-1.64009067  2.97335761]\n",
      " [-7.08993146 -2.63529817]\n",
      " [-3.79857969  0.01263836]\n",
      " [-1.26697084  0.06965732]\n",
      " [-5.60860619  0.0194709 ]\n",
      " [-1.36682918  0.27959844]\n",
      " [-6.0489137   0.42342455]\n",
      " [ 7.39400766  0.88782928]\n",
      " [-6.08550787 -2.21090368]\n",
      " [-4.66702701 -1.16810234]\n",
      " [-5.4677419  -1.6325497 ]\n",
      " [ 7.60279387 -0.34287483]\n",
      " [-3.84347857 -0.92957034]\n",
      " [ 8.29579541  0.24821276]\n",
      " [-5.29906842 -0.14242993]\n",
      " [-1.70935552  3.04871713]\n",
      " [-1.73787185  0.60819256]\n",
      " [-6.77617883 -2.30686687]\n",
      " [ 9.10481501 -0.9794594 ]\n",
      " [-5.99816909 -1.21905741]\n",
      " [ 7.99191047  0.39573684]\n",
      " [ 8.16058736 -0.38948044]\n",
      " [-6.08116461 -1.32312478]\n",
      " [ 9.15689914 -0.84328033]\n",
      " [ 0.32839378  1.19740288]\n",
      " [-6.65824655 -1.44960219]\n",
      " [10.81817639 -1.96220983]\n",
      " [-0.95021788  1.78254353]\n",
      " [ 8.45926639  0.25619998]\n",
      " [-5.79379063 -0.36977975]\n",
      " [ 8.8260942  -0.56272629]\n",
      " [-6.85272738  0.85789221]\n",
      " [-0.58846757  2.15426852]\n",
      " [ 9.11091414 -0.49391952]\n",
      " [ 8.82066483 -0.15893566]\n",
      " [-5.81228092  0.74391449]\n",
      " [-7.38481198 -0.60974642]\n",
      " [-1.96351747 -0.12243189]\n",
      " [ 6.92952709 -0.26096275]\n",
      " [-4.9817707  -0.21299701]\n",
      " [-7.34824776 -0.65623487]\n",
      " [ 0.15949343  1.59320629]\n",
      " [-1.37922034  1.87883257]\n",
      " [-7.20706557 -2.20578558]\n",
      " [ 8.01164523  1.06873651]\n",
      " [-6.75258109 -1.93039569]\n",
      " [-6.01643592  0.28405071]\n",
      " [ 8.67226745 -0.48417199]\n",
      " [-5.43549099  0.11399963]\n",
      " [-8.32029203  1.06336672]\n",
      " [-1.53726194  1.46705472]\n",
      " [-4.96934959  0.86858554]\n",
      " [ 7.34380782  0.74685796]\n",
      " [-1.21843181  0.60483477]\n",
      " [ 7.72682528  0.99992974]\n",
      " [ 9.72622113 -0.80813669]\n",
      " [-2.80380033  0.35049135]\n",
      " [-0.41094462  0.16881549]\n",
      " [-6.01643592  0.28405071]\n",
      " [ 8.56985507 -1.15876914]\n",
      " [-6.79588364 -0.29904986]\n",
      " [-2.77630562  1.11482478]\n",
      " [10.42618446 -1.4124926 ]\n",
      " [-1.94921209  0.95435841]\n",
      " [-2.01994486 -1.14638985]\n",
      " [-2.90975781  0.07489258]\n",
      " [-8.03425756  0.23805072]\n",
      " [-7.39423275 -0.30687406]\n",
      " [ 7.53043023  0.63139972]\n",
      " [-4.84100487  0.41835232]\n",
      " [ 8.838069    0.01893962]\n",
      " [-1.5649801   0.31330742]\n",
      " [ 7.21556155 -1.08627875]\n",
      " [-5.33607894 -0.59585812]\n",
      " [-2.17463426  0.61314783]\n",
      " [-1.16267418  0.73946222]\n",
      " [-2.25309703  1.10188249]\n",
      " [-1.44260951  2.05031811]\n",
      " [-2.89002305  0.74789224]\n",
      " [ 9.08929511 -1.16212693]\n",
      " [-2.50279073  1.49129616]\n",
      " [-5.65325166  2.14749275]\n",
      " [10.57512659 -2.87070955]\n",
      " [-5.56715394 -0.92269194]\n",
      " [ 9.41668336 -0.64623585]\n",
      " [ 7.55747864  0.8958165 ]\n",
      " [-3.02564746  2.29109908]\n",
      " [ 7.34179513  0.35420346]\n",
      " [-8.23409925 -2.01485086]\n",
      " [-2.27305524  0.03946895]\n",
      " [-5.16583908  0.7869995 ]\n",
      " [ 8.04565542  0.13770979]\n",
      " [-6.0997833  -0.60687729]\n",
      " [-2.58070874  0.19657753]\n",
      " [ 8.2481496   0.9917797 ]\n",
      " [-3.0713445   0.06211311]\n",
      " [-7.20828009 -1.31166282]\n",
      " [ 7.91887708  0.48068087]\n",
      " [-4.19711706 -0.42310094]\n",
      " [ 8.05108479 -0.26608084]\n",
      " [-7.09200863 -0.06019201]\n",
      " [ 9.53228506 -0.28409556]\n",
      " [-7.31034061 -1.19939934]\n",
      " [ 8.44186221  0.0783247 ]\n",
      " [ 8.97449157 -0.23748995]]\n"
     ]
    }
   ],
   "source": [
    "from sklearn.preprocessing import StandardScaler\n",
    "\n",
    "sc = StandardScaler()\n",
    "x_train = sc.fit_transform(x_train)\n",
    "x_test = sc.transform(x_test)\n",
    "\n",
    "from sklearn.discriminant_analysis import LinearDiscriminantAnalysis as LDA\n",
    "lda = LDA(n_components=2)\n",
    "x_train1 = lda.fit_transform(x_train, y_train)\n",
    "print (x_train1)"
   ]
  },
  {
   "cell_type": "code",
   "execution_count": 9,
   "metadata": {
    "id": "QTUCl6RfE7Kp"
   },
   "outputs": [],
   "source": [
    "from sklearn.ensemble import RandomForestClassifier\n",
    "\n",
    "classifier = RandomForestClassifier(max_depth=2, random_state=0)\n",
    "\n",
    "classifier.fit(x_train1, y_train)\n",
    "\n",
    "x_test = lda.transform(x_test)\n",
    "\n",
    "y_pred = classifier.predict(x_test)"
   ]
  },
  {
   "cell_type": "code",
   "execution_count": 10,
   "metadata": {
    "colab": {
     "base_uri": "https://localhost:8080/"
    },
    "id": "CyCWvn02E7Kr",
    "outputId": "6a3d988f-c26f-4eb6-9507-a8b8c4ea383e",
    "scrolled": false
   },
   "outputs": [
    {
     "name": "stdout",
     "output_type": "stream",
     "text": [
      "[[11  4  0]\n",
      " [ 0 16  2]\n",
      " [ 0  0 12]]\n",
      "Accuracy0.8666666666666667\n"
     ]
    }
   ],
   "source": [
    "#y_pred = lda.predict (x_test)\n",
    "from sklearn.metrics import confusion_matrix\n",
    "from sklearn.metrics import accuracy_score\n",
    "\n",
    "cm = confusion_matrix(y_test, y_pred)\n",
    "print(cm)\n",
    "print('Accuracy' + str(accuracy_score(y_test, y_pred)))"
   ]
  },
  {
   "cell_type": "code",
   "execution_count": 11,
   "metadata": {
    "colab": {
     "base_uri": "https://localhost:8080/",
     "height": 297
    },
    "id": "auQ-PptlE7Kq",
    "outputId": "2614466e-72f1-4907-a771-2cabb0880298"
   },
   "outputs": [
    {
     "data": {
      "image/png": "[encoded data removed]",
      "text/plain": [
       "<Figure size 360x288 with 2 Axes>"
      ]
     },
     "metadata": {
      "needs_background": "light"
     },
     "output_type": "display_data"
    }
   ],
   "source": [
    "formatter = plt.FuncFormatter(lambda i, *args: dataset.target_names[int(i)])\n",
    "plt.figure(figsize=(5, 4))\n",
    "plt.scatter(x_test[:, 0], x_test[:, 1],c = y_test)\n",
    "plt.colorbar(ticks=[0, 1, 2], format=formatter)\n",
    "plt.xlabel(dataset.feature_names[0])\n",
    "plt.ylabel(dataset.feature_names[1])\n",
    "plt.tight_layout()\n",
    "plt.show()"
   ]
  },
  {
   "cell_type": "code",
   "execution_count": null,
   "metadata": {
    "id": "e000WP7rE7Kq"
   },
   "outputs": [],
   "source": []
  },
  {
   "cell_type": "code",
   "execution_count": null,
   "metadata": {
    "id": "fOtWVRExE7Kq"
   },
   "outputs": [],
   "source": []
  },
  {
   "cell_type": "code",
   "execution_count": null,
   "metadata": {
    "id": "GFXoLI_dE7Kr"
   },
   "outputs": [],
   "source": []
  },
  {
   "cell_type": "code",
   "execution_count": 12,
   "metadata": {
    "colab": {
     "base_uri": "https://localhost:8080/",
     "height": 278
    },
    "id": "wpGs6mHvE7Kr",
    "outputId": "6c5d1bfc-fbed-469b-cd79-bb33deefcf6e",
    "scrolled": true
   },
   "outputs": [
    {
     "data": {
      "image/png": "[encoded data removed]",
      "text/plain": [
       "<Figure size 432x288 with 4 Axes>"
      ]
     },
     "metadata": {},
     "output_type": "display_data"
    }
   ],
   "source": [
    "import sklearn.datasets as datasets\n",
    "from sklearn import svm\n",
    "def make_meshgrid(x, y, h=.02):\n",
    "    \"\"\"Create a mesh of points to plot in\n",
    "\n",
    "    Parameters\n",
    "    ----------\n",
    "    x: data to base x-axis meshgrid on\n",
    "    y: data to base y-axis meshgrid on\n",
    "    h: stepsize for meshgrid, optional\n",
    "\n",
    "    Returns\n",
    "    -------\n",
    "    xx, yy : ndarray\n",
    "    \"\"\"\n",
    "    x_min, x_max = x.min() - 1, x.max() + 1\n",
    "    y_min, y_max = y.min() - 1, y.max() + 1\n",
    "    xx, yy = np.meshgrid(np.arange(x_min, x_max, h),\n",
    "                         np.arange(y_min, y_max, h))\n",
    "    return xx, yy\n",
    "\n",
    "\n",
    "def plot_contours(ax, clf, xx, yy, **params):\n",
    "    \"\"\"Plot the decision boundaries for a classifier.\n",
    "\n",
    "    Parameters\n",
    "    ----------\n",
    "    ax: matplotlib axes object\n",
    "    clf: a classifier\n",
    "    xx: meshgrid ndarray\n",
    "    yy: meshgrid ndarray\n",
    "    params: dictionary of params to pass to contourf, optional\n",
    "    \"\"\"\n",
    "    Z = clf.predict(np.c_[xx.ravel(), yy.ravel()])\n",
    "    Z = Z.reshape(xx.shape)\n",
    "    out = ax.contourf(xx, yy, Z, **params)\n",
    "    return out\n",
    "\n",
    "\n",
    "# import some data to play with\n",
    "iris = datasets.load_iris()\n",
    "# Take the first two features. We could avoid this by using a two-dim dataset\n",
    "X = iris.data[:, :2]\n",
    "y = iris.target\n",
    "C = 1.0\n",
    "models = (svm.SVC(kernel='linear', C=C),\n",
    "          svm.LinearSVC(C=C, max_iter=10000),\n",
    "          svm.SVC(kernel='rbf', gamma=0.7, C=C),\n",
    "          svm.SVC(kernel='poly', degree=3, gamma='auto', C=C))\n",
    "models = (clf.fit(X, y) for clf in models)\n",
    "\n",
    "# title for the plots\n",
    "titles = ('SVC with linear kernel',\n",
    "          'LinearSVC (linear kernel)',\n",
    "          'SVC with RBF kernel',\n",
    "          'SVC with polynomial (degree 3) kernel')\n",
    "\n",
    "# Set-up 2x2 grid for plotting.\n",
    "fig, sub = plt.subplots(2, 2)\n",
    "plt.subplots_adjust(wspace=0.4, hspace=0.4)\n",
    "\n",
    "X0, X1 = X[:, 0], X[:, 1]\n",
    "xx, yy = make_meshgrid(X0, X1)\n",
    "\n",
    "for clf, title, ax in zip(models, titles, sub.flatten()):\n",
    "    plot_contours(ax, clf, xx, yy,\n",
    "                  cmap=plt.cm.coolwarm, alpha=0.8)\n",
    "    ax.scatter(X0, X1, c=y, cmap=plt.cm.coolwarm, s=20, edgecolors='k')\n",
    "    ax.set_xlim(xx.min(), xx.max())\n",
    "    ax.set_ylim(yy.min(), yy.max())\n",
    "    ax.set_xlabel('Sepal length')\n",
    "    ax.set_ylabel('Sepal width')\n",
    "    ax.set_xticks(())\n",
    "    ax.set_yticks(())\n",
    "    ax.set_title(title)\n",
    "\n",
    "plt.show()"
   ]
  },
  {
   "cell_type": "code",
   "execution_count": 13,
   "metadata": {
    "colab": {
     "base_uri": "https://localhost:8080/"
    },
    "id": "u7GypYsbE7Ks",
    "outputId": "e8d710ad-b1f6-4253-d5d0-f6fed398a5c5",
    "scrolled": false
   },
   "outputs": [
    {
     "name": "stderr",
     "output_type": "stream",
     "text": [
      "C:\\Users\\user\\anaconda3\\lib\\site-packages\\setuptools\\distutils_patch.py:25: UserWarning: Distutils was imported before Setuptools. This usage is discouraged and may exhibit undesirable behaviors or errors. Please use Setuptools' objects directly or at least import Setuptools first.\n",
      "  warnings.warn(\n"
     ]
    },
    {
     "name": "stdout",
     "output_type": "stream",
     "text": [
      "Using cuda device\n"
     ]
    }
   ],
   "source": [
    "import torch\n",
    "from torch.utils.data import Dataset\n",
    "from torchvision import datasets\n",
    "import matplotlib.pyplot as plt\n",
    "from torch.utils.data import DataLoader\n",
    "from torch import nn\n",
    "from torchvision.transforms import ToTensor, Lambda, Compose\n",
    "import matplotlib.pyplot as plt\n",
    "import numpy as np\n",
    "import tensorboard\n",
    "import torchvision\n",
    "from torch.utils.tensorboard import SummaryWriter\n",
    "from torchvision import datasets, transforms\n",
    "from torch.utils.data import DataLoader\n",
    "device = 'cuda' if torch.cuda.is_available() else 'cpu'\n",
    "print('Using {} device'.format(device))\n",
    "from sklearn.model_selection import KFold\n",
    "\n",
    "class NeuralNetwork(nn.Module):\n",
    "    def __init__(self):\n",
    "        super(NeuralNetwork, self).__init__()\n",
    "        self.flatten = nn.Flatten()\n",
    "        self.linear_relu_stack = nn.Sequential(\n",
    "            nn.Linear(2, 5),\n",
    "            nn.Sigmoid(),\n",
    "            nn.Linear(5, 2),\n",
    "        )\n",
    " \n",
    "    def forward(self, x):\n",
    "        x = self.flatten(x)\n",
    "        logits = self.linear_relu_stack(x)\n",
    "        return logits\n",
    "    \n",
    "class CircleDataset(Dataset):\n",
    "    def __init__(self, size, radius, transform=None, target_transform=None):\n",
    "        self.size = size\n",
    "        self.radius = radius\n",
    "        self.labels = np.arange (size)\n",
    "        self.points = np.random.uniform(-radius, radius, [size, 2])\n",
    "        self.transform = transform\n",
    "        self.target_transform = target_transform\n",
    "        for i in range (size):\n",
    "            radius_in = np.sqrt(self.points[i][0] * self.points[i][0] + self.points[i][1] * self.points[i][1])\n",
    "            if (radius_in <= radius):\n",
    "                self.labels [i] = 1\n",
    "            else:\n",
    "                self.labels [i] = 0   \n",
    "    def __len__(self):\n",
    "        return (self.labels.shape[-1])\n",
    "    def __getitem__(self, idx):\n",
    "        if (self.transform):\n",
    "            x = self.transform (self.points[idx].reshape (2, 1))\n",
    "        #if (self.target_transform):\n",
    "        #    self.labels[idx] = self.target_transform (self.labels[idx])\n",
    "        return x, self.labels[idx]\n",
    "    "
   ]
  },
  {
   "cell_type": "code",
   "execution_count": 14,
   "metadata": {
    "colab": {
     "base_uri": "https://localhost:8080/"
    },
    "id": "gESY0BNME7Ks",
    "outputId": "9c3a5049-a53e-4ab0-98fb-5e15ec3374dd"
   },
   "outputs": [
    {
     "name": "stdout",
     "output_type": "stream",
     "text": [
      "NeuralNetwork(\n",
      "  (flatten): Flatten(start_dim=1, end_dim=-1)\n",
      "  (linear_relu_stack): Sequential(\n",
      "    (0): Linear(in_features=2, out_features=5, bias=True)\n",
      "    (1): Sigmoid()\n",
      "    (2): Linear(in_features=5, out_features=2, bias=True)\n",
      "  )\n",
      ")\n"
     ]
    }
   ],
   "source": [
    "model = NeuralNetwork()\n",
    "print(model)\n",
    "model = model.to(device)\n",
    "loss_fn = nn.CrossEntropyLoss()\n",
    "optimizer = torch.optim.Adam(model.parameters(), lr=0.01)\n",
    " \n",
    "writer = SummaryWriter() \n",
    "writer = SummaryWriter(\"logs/data\")"
   ]
  },
  {
   "cell_type": "code",
   "execution_count": 15,
   "metadata": {
    "id": "3q7mtIrME7Ks"
   },
   "outputs": [],
   "source": [
    "def train(dataloader, model, loss_fn, optimizer):\n",
    "    size = len(dataloader.dataset)\n",
    "    for batch, (X, y) in enumerate(dataloader):\n",
    "        X, y = X.to(device), y.to(device)\n",
    "        pred = model(X.float())\n",
    "        loss = loss_fn(pred, y.long())\n",
    " \n",
    "        optimizer.zero_grad()\n",
    "        loss.backward()\n",
    "        optimizer.step()\n",
    " \n",
    "        if batch % 100 == 0:\n",
    "            loss, current = loss.item(), batch * len(X)\n",
    "            print(f\"loss: {loss:>7f}  [{current:>5d}/{size:>5d}]\")\n",
    "            \n",
    "def test(dataloader, model, loss_fn):\n",
    "    size = len(dataloader.dataset)\n",
    "    num_batches = len(dataloader)\n",
    "    model.eval()\n",
    "    test_loss, correct = 0, 0\n",
    "    with torch.no_grad():\n",
    "        for X, y in dataloader:\n",
    "            X, y = X.to(device), y.to(device)\n",
    "            pred = model(X.float())\n",
    "            test_loss += loss_fn(pred, y.long()).item()\n",
    "            correct += (pred.argmax (1) == y).type(torch.float).sum().item()\n",
    "    test_loss /= num_batches\n",
    "    correct /= size\n",
    "    print(f\"Test Error: \\n Accuracy: {(100*correct):>0.1f}%, Avg loss: {test_loss:>8f} \\n\")\n",
    "    return (correct * 100, test_loss)"
   ]
  },
  {
   "cell_type": "code",
   "execution_count": 16,
   "metadata": {
    "id": "xZheZdjsE7Kt"
   },
   "outputs": [],
   "source": [
    "training_data = CircleDataset(\n",
    "    size = 2500,\n",
    "    radius = 0.75,\n",
    "    transform=ToTensor()\n",
    ")\n",
    "\n",
    "test_data = CircleDataset(\n",
    "    size = 1000,\n",
    "    radius = 0.75,\n",
    "    transform=ToTensor()\n",
    ")\n",
    "\n",
    "train_dataloader = DataLoader(training_data, batch_size=10, shuffle=True)\n",
    "test_dataloader = DataLoader(test_data, batch_size=10, shuffle=True)"
   ]
  },
  {
   "cell_type": "code",
   "execution_count": 17,
   "metadata": {
    "colab": {
     "base_uri": "https://localhost:8080/"
    },
    "id": "K8DTp4N_E7Kt",
    "outputId": "fae78de2-295b-41aa-e1e9-4f3868b71c8b"
   },
   "outputs": [
    {
     "name": "stdout",
     "output_type": "stream",
     "text": [
      "Epoch 1\n",
      "-------------------------------\n",
      "loss: 0.804159  [    0/ 2500]\n",
      "loss: 0.758226  [ 1000/ 2500]\n",
      "loss: 0.613663  [ 2000/ 2500]\n",
      "Test Error: \n",
      " Accuracy: 77.4%, Avg loss: 0.535538 \n",
      "\n",
      "Epoch 2\n",
      "-------------------------------\n",
      "loss: 0.229161  [    0/ 2500]\n",
      "loss: 0.361250  [ 1000/ 2500]\n",
      "loss: 0.499913  [ 2000/ 2500]\n",
      "Test Error: \n",
      " Accuracy: 77.4%, Avg loss: 0.532669 \n",
      "\n",
      "Epoch 3\n",
      "-------------------------------\n",
      "loss: 0.504056  [    0/ 2500]\n",
      "loss: 0.181357  [ 1000/ 2500]\n",
      "loss: 0.361255  [ 2000/ 2500]\n",
      "Test Error: \n",
      " Accuracy: 77.4%, Avg loss: 0.522429 \n",
      "\n",
      "Epoch 4\n",
      "-------------------------------\n",
      "loss: 0.467588  [    0/ 2500]\n",
      "loss: 0.377666  [ 1000/ 2500]\n",
      "loss: 0.370180  [ 2000/ 2500]\n",
      "Test Error: \n",
      " Accuracy: 77.4%, Avg loss: 0.495639 \n",
      "\n",
      "Epoch 5\n",
      "-------------------------------\n",
      "loss: 0.453866  [    0/ 2500]\n",
      "loss: 0.550296  [ 1000/ 2500]\n",
      "loss: 0.419811  [ 2000/ 2500]\n",
      "Test Error: \n",
      " Accuracy: 77.4%, Avg loss: 0.459075 \n",
      "\n",
      "Epoch 6\n",
      "-------------------------------\n",
      "loss: 0.446915  [    0/ 2500]\n",
      "loss: 0.490403  [ 1000/ 2500]\n",
      "loss: 0.487443  [ 2000/ 2500]\n",
      "Test Error: \n",
      " Accuracy: 79.1%, Avg loss: 0.420216 \n",
      "\n",
      "Epoch 7\n",
      "-------------------------------\n",
      "loss: 0.441595  [    0/ 2500]\n",
      "loss: 0.317205  [ 1000/ 2500]\n",
      "loss: 0.359924  [ 2000/ 2500]\n",
      "Test Error: \n",
      " Accuracy: 79.2%, Avg loss: 0.388598 \n",
      "\n",
      "Epoch 8\n",
      "-------------------------------\n",
      "loss: 0.569130  [    0/ 2500]\n",
      "loss: 0.655996  [ 1000/ 2500]\n",
      "loss: 0.556830  [ 2000/ 2500]\n",
      "Test Error: \n",
      " Accuracy: 85.1%, Avg loss: 0.358195 \n",
      "\n",
      "Epoch 9\n",
      "-------------------------------\n",
      "loss: 0.227445  [    0/ 2500]\n",
      "loss: 0.257236  [ 1000/ 2500]\n",
      "loss: 0.313036  [ 2000/ 2500]\n",
      "Test Error: \n",
      " Accuracy: 84.3%, Avg loss: 0.327538 \n",
      "\n",
      "Epoch 10\n",
      "-------------------------------\n",
      "loss: 0.218377  [    0/ 2500]\n",
      "loss: 0.124900  [ 1000/ 2500]\n",
      "loss: 0.471982  [ 2000/ 2500]\n",
      "Test Error: \n",
      " Accuracy: 86.8%, Avg loss: 0.293796 \n",
      "\n",
      "Epoch 11\n",
      "-------------------------------\n",
      "loss: 0.140830  [    0/ 2500]\n",
      "loss: 0.265333  [ 1000/ 2500]\n",
      "loss: 0.109261  [ 2000/ 2500]\n",
      "Test Error: \n",
      " Accuracy: 91.7%, Avg loss: 0.252327 \n",
      "\n",
      "Epoch 12\n",
      "-------------------------------\n",
      "loss: 0.148558  [    0/ 2500]\n",
      "loss: 0.247106  [ 1000/ 2500]\n",
      "loss: 0.367824  [ 2000/ 2500]\n",
      "Test Error: \n",
      " Accuracy: 94.8%, Avg loss: 0.223938 \n",
      "\n",
      "Epoch 13\n",
      "-------------------------------\n",
      "loss: 0.169255  [    0/ 2500]\n",
      "loss: 0.159598  [ 1000/ 2500]\n",
      "loss: 0.168914  [ 2000/ 2500]\n",
      "Test Error: \n",
      " Accuracy: 94.0%, Avg loss: 0.199069 \n",
      "\n",
      "Epoch 14\n",
      "-------------------------------\n",
      "loss: 0.085287  [    0/ 2500]\n",
      "loss: 0.189990  [ 1000/ 2500]\n",
      "loss: 0.182129  [ 2000/ 2500]\n",
      "Test Error: \n",
      " Accuracy: 95.1%, Avg loss: 0.182163 \n",
      "\n",
      "Epoch 15\n",
      "-------------------------------\n",
      "loss: 0.246490  [    0/ 2500]\n",
      "loss: 0.274733  [ 1000/ 2500]\n",
      "loss: 0.356140  [ 2000/ 2500]\n",
      "Test Error: \n",
      " Accuracy: 95.0%, Avg loss: 0.172332 \n",
      "\n",
      "Epoch 16\n",
      "-------------------------------\n",
      "loss: 0.092788  [    0/ 2500]\n",
      "loss: 0.204553  [ 1000/ 2500]\n",
      "loss: 0.255392  [ 2000/ 2500]\n",
      "Test Error: \n",
      " Accuracy: 95.0%, Avg loss: 0.163703 \n",
      "\n",
      "Epoch 17\n",
      "-------------------------------\n",
      "loss: 0.220697  [    0/ 2500]\n",
      "loss: 0.188648  [ 1000/ 2500]\n",
      "loss: 0.090980  [ 2000/ 2500]\n",
      "Test Error: \n",
      " Accuracy: 93.9%, Avg loss: 0.163350 \n",
      "\n",
      "Epoch 18\n",
      "-------------------------------\n",
      "loss: 0.310088  [    0/ 2500]\n",
      "loss: 0.152028  [ 1000/ 2500]\n",
      "loss: 0.302025  [ 2000/ 2500]\n",
      "Test Error: \n",
      " Accuracy: 95.1%, Avg loss: 0.151319 \n",
      "\n",
      "Epoch 19\n",
      "-------------------------------\n",
      "loss: 0.062245  [    0/ 2500]\n",
      "loss: 0.160531  [ 1000/ 2500]\n",
      "loss: 0.110701  [ 2000/ 2500]\n",
      "Test Error: \n",
      " Accuracy: 95.4%, Avg loss: 0.141497 \n",
      "\n",
      "Epoch 20\n",
      "-------------------------------\n",
      "loss: 0.178390  [    0/ 2500]\n",
      "loss: 0.114731  [ 1000/ 2500]\n",
      "loss: 0.048082  [ 2000/ 2500]\n",
      "Test Error: \n",
      " Accuracy: 95.5%, Avg loss: 0.137695 \n",
      "\n",
      "Epoch 21\n",
      "-------------------------------\n",
      "loss: 0.240407  [    0/ 2500]\n",
      "loss: 0.208086  [ 1000/ 2500]\n",
      "loss: 0.196008  [ 2000/ 2500]\n",
      "Test Error: \n",
      " Accuracy: 95.0%, Avg loss: 0.137430 \n",
      "\n",
      "Epoch 22\n",
      "-------------------------------\n",
      "loss: 0.194727  [    0/ 2500]\n",
      "loss: 0.095433  [ 1000/ 2500]\n",
      "loss: 0.172877  [ 2000/ 2500]\n",
      "Test Error: \n",
      " Accuracy: 95.4%, Avg loss: 0.129508 \n",
      "\n",
      "Epoch 23\n",
      "-------------------------------\n",
      "loss: 0.044583  [    0/ 2500]\n",
      "loss: 0.164711  [ 1000/ 2500]\n",
      "loss: 0.023349  [ 2000/ 2500]\n",
      "Test Error: \n",
      " Accuracy: 95.2%, Avg loss: 0.129384 \n",
      "\n",
      "Epoch 24\n",
      "-------------------------------\n",
      "loss: 0.307619  [    0/ 2500]\n",
      "loss: 0.072491  [ 1000/ 2500]\n",
      "loss: 0.181745  [ 2000/ 2500]\n",
      "Test Error: \n",
      " Accuracy: 96.0%, Avg loss: 0.124547 \n",
      "\n",
      "Epoch 25\n",
      "-------------------------------\n",
      "loss: 0.255223  [    0/ 2500]\n",
      "loss: 0.178889  [ 1000/ 2500]\n",
      "loss: 0.153147  [ 2000/ 2500]\n",
      "Test Error: \n",
      " Accuracy: 95.9%, Avg loss: 0.119053 \n",
      "\n",
      "Epoch 26\n",
      "-------------------------------\n",
      "loss: 0.080219  [    0/ 2500]\n",
      "loss: 0.015115  [ 1000/ 2500]\n",
      "loss: 0.114216  [ 2000/ 2500]\n",
      "Test Error: \n",
      " Accuracy: 96.6%, Avg loss: 0.114826 \n",
      "\n",
      "Epoch 27\n",
      "-------------------------------\n",
      "loss: 0.172351  [    0/ 2500]\n",
      "loss: 0.120964  [ 1000/ 2500]\n",
      "loss: 0.221609  [ 2000/ 2500]\n",
      "Test Error: \n",
      " Accuracy: 96.1%, Avg loss: 0.113362 \n",
      "\n",
      "Epoch 28\n",
      "-------------------------------\n",
      "loss: 0.025320  [    0/ 2500]\n",
      "loss: 0.147245  [ 1000/ 2500]\n",
      "loss: 0.107457  [ 2000/ 2500]\n",
      "Test Error: \n",
      " Accuracy: 95.5%, Avg loss: 0.117774 \n",
      "\n",
      "Epoch 29\n",
      "-------------------------------\n",
      "loss: 0.215148  [    0/ 2500]\n",
      "loss: 0.031607  [ 1000/ 2500]\n",
      "loss: 0.117174  [ 2000/ 2500]\n",
      "Test Error: \n",
      " Accuracy: 95.4%, Avg loss: 0.112371 \n",
      "\n",
      "Epoch 30\n",
      "-------------------------------\n",
      "loss: 0.149936  [    0/ 2500]\n",
      "loss: 0.057843  [ 1000/ 2500]\n",
      "loss: 0.119431  [ 2000/ 2500]\n",
      "Test Error: \n",
      " Accuracy: 96.8%, Avg loss: 0.106387 \n",
      "\n"
     ]
    }
   ],
   "source": [
    "model = model.float()\n",
    "epochs = 30\n",
    "points = []\n",
    "accuracy = []\n",
    "loss = []\n",
    "for t in range(epochs):\n",
    "    print(f\"Epoch {t+1}\\n-------------------------------\")\n",
    "    train(train_dataloader, model, loss_fn, optimizer)\n",
    "    acc,lo = test(test_dataloader, model, loss_fn)\n",
    "    accuracy.append (acc)\n",
    "    points.append (t)\n",
    "    loss.append (lo)\n",
    "for i in range (epochs):\n",
    "    writer.add_scalars('accuracy_curve', {'accuracy':accuracy[i],\n",
    "                                 }, i)\n",
    "    writer.add_scalars('loss_curve', {'loss':loss[i],\n",
    "                                 }, i) "
   ]
  },
  {
   "cell_type": "markdown",
   "metadata": {
    "id": "a5cf591a"
   },
   "source": [
    "## Task 1. Find the accuracy and confusion matrix for RBF SVM classifier on iris dataset. "
   ]
  },
  {
   "cell_type": "code",
   "execution_count": 18,
   "metadata": {},
   "outputs": [],
   "source": [
    "import sklearn.datasets as datasets\n",
    "from sklearn import svm\n",
    "from sklearn.model_selection import train_test_split\n",
    "from sklearn.metrics import confusion_matrix\n",
    "from sklearn.metrics import accuracy_score\n",
    "iris = datasets.load_iris()"
   ]
  },
  {
   "cell_type": "code",
   "execution_count": 19,
   "metadata": {
    "id": "cb685f61"
   },
   "outputs": [
    {
     "name": "stdout",
     "output_type": "stream",
     "text": [
      "Iris dataset shape: (150, 4)\n",
      "Accuracy score for RBF SVM classifier: 0.9777777777777777\n",
      "Confusion matrix for RBF SVM classifier:\n",
      " [[14  0  0]\n",
      " [ 0 12  0]\n",
      " [ 0  1 18]]\n"
     ]
    }
   ],
   "source": [
    "#Task 1\n",
    "X = iris.data[:, :]\n",
    "y = iris.target\n",
    "C = 1.0\n",
    "print ('Iris dataset shape:', X.shape)\n",
    "\n",
    "x_train, x_test, y_train, y_test = train_test_split(X, y, test_size=0.3)\n",
    "clf = svm.SVC(kernel='rbf', gamma=0.7, C=C)\n",
    "clf.fit(x_train, y_train)\n",
    "y_pred = clf.predict(x_test)\n",
    "cm = confusion_matrix(y_test, y_pred)\n",
    "print('Accuracy score for RBF SVM classifier:', accuracy_score(y_test, y_pred))\n",
    "print('Confusion matrix for RBF SVM classifier:\\n',cm)"
   ]
  },
  {
   "cell_type": "markdown",
   "metadata": {
    "id": "17f4410b"
   },
   "source": [
    "## Task 2. Show the classification accuracy and confusion matrix using only 'sepal length' and 'sepal width' features for the LDA classifier \n"
   ]
  },
  {
   "cell_type": "code",
   "execution_count": 4,
   "metadata": {
    "id": "d1323b97"
   },
   "outputs": [
    {
     "name": "stdout",
     "output_type": "stream",
     "text": [
      "All feature names: ['sepal length (cm)', 'sepal width (cm)', 'petal length (cm)', 'petal width (cm)']\n",
      "Selected Iris dataset shape: (150, 2)\n",
      "Accuracy score for the LDA classifier: 0.7111111111111111\n",
      "Confusion matrix for the LDA classifier:\n",
      " [[12  1  0]\n",
      " [ 0 10  4]\n",
      " [ 0  8 10]]\n"
     ]
    }
   ],
   "source": [
    "#Task 2\n",
    "import sklearn.datasets as datasets\n",
    "from sklearn.model_selection import train_test_split\n",
    "from sklearn.metrics import confusion_matrix\n",
    "from sklearn.metrics import accuracy_score\n",
    "from sklearn.discriminant_analysis import LinearDiscriminantAnalysis\n",
    "iris = datasets.load_iris()\n",
    "print('All feature names:',iris.feature_names)\n",
    "\n",
    "X = iris.data[:, :2]\n",
    "y = iris.target\n",
    "C = 1.0\n",
    "print ('Selected Iris dataset shape:', X.shape)\n",
    "x_train, x_test, y_train, y_test = train_test_split(X, y, test_size=0.3)\n",
    "\n",
    "# create the lda model\n",
    "lda = LinearDiscriminantAnalysis(n_components=2)\n",
    "lda.fit(x_train, y_train)\n",
    "\n",
    "# Predict class labels for samples in x_test.\n",
    "y_pred = lda.predict(x_test)\n",
    "\n",
    "cm = confusion_matrix(y_test, y_pred)\n",
    "print('Accuracy score for the LDA classifier:', accuracy_score(y_test, y_pred))\n",
    "print('Confusion matrix for the LDA classifier:\\n', cm)"
   ]
  },
  {
   "cell_type": "markdown",
   "metadata": {
    "id": "9043fe78"
   },
   "source": [
    "## Task 3. Train the neural network for the identification of points within a circle using radius value of 1\n"
   ]
  },
  {
   "cell_type": "code",
   "execution_count": 7,
   "metadata": {
    "id": "70d1f9ae"
   },
   "outputs": [
    {
     "name": "stdout",
     "output_type": "stream",
     "text": [
      "Train dataset: ((7000, 2), (7000,))\n",
      "Test dataset: ((3000, 2), (3000,))\n"
     ]
    }
   ],
   "source": [
    "#Task 3\n",
    "import numpy as np\n",
    "from torch.utils.data import Dataset\n",
    "from torch.utils.data import DataLoader\n",
    "from torchvision.transforms import ToTensor\n",
    "\n",
    "\n",
    "# Generate Train and Test datasets\n",
    "class CircleDataset(Dataset):\n",
    "    def __init__(self, size, radius, transform=None, target_transform=None):\n",
    "        self.size = size\n",
    "        self.radius = radius\n",
    "        self.labels = np.arange (size)\n",
    "        self.points = np.random.uniform(-radius, radius, [size, 2])\n",
    "        self.transform = transform\n",
    "        self.target_transform = target_transform\n",
    "        for i in range (size):\n",
    "            radius_in = np.sqrt(self.points[i][0] * self.points[i][0] + self.points[i][1] * self.points[i][1])\n",
    "            if (radius_in <= radius):\n",
    "                self.labels [i] = 1\n",
    "            else:\n",
    "                self.labels [i] = 0\n",
    "    def __len__(self):\n",
    "        return (self.labels.shape[-1])\n",
    "    def __getitem__(self, idx):\n",
    "        if (self.transform):\n",
    "            x = self.transform (self.points[idx].reshape (2, 1))\n",
    "        #if (self.target_transform):\n",
    "        #    self.labels[idx] = self.target_transform (self.labels[idx])\n",
    "        return x, self.labels[idx]\n",
    "    def shape(self):\n",
    "        return (self.points.shape, self.labels.shape,)\n",
    "\n",
    "training_data = CircleDataset(\n",
    "    size = 7000,\n",
    "    radius = 1,\n",
    "    transform=ToTensor()\n",
    ")\n",
    "\n",
    "test_data = CircleDataset(\n",
    "    size = 3000,\n",
    "    radius = 1,\n",
    "    transform=ToTensor()\n",
    ")\n",
    "\n",
    "print('Train dataset:', training_data.shape())\n",
    "# print(training_data.points)\n",
    "# print(training_data.labels)\n",
    "\n",
    "print('Test dataset:', test_data.shape())\n",
    "# print(test_data.points)\n",
    "# print(test_data.labels)\n",
    "\n",
    "train_dataloader = DataLoader(training_data, batch_size=10, shuffle=True)\n",
    "test_dataloader = DataLoader(test_data, batch_size=10, shuffle=True)"
   ]
  },
  {
   "cell_type": "code",
   "execution_count": 8,
   "metadata": {
    "id": "DlqUagwcfP2A"
   },
   "outputs": [],
   "source": [
    "from torch import nn\n",
    "\n",
    "class NeuralNetwork(nn.Module):\n",
    "    def __init__(self):\n",
    "        super(NeuralNetwork, self).__init__()\n",
    "        self.flatten = nn.Flatten()\n",
    "        self.linear_relu_stack = nn.Sequential(\n",
    "            nn.Linear(2, 5),\n",
    "            nn.Sigmoid(),\n",
    "            nn.Linear(5, 2),\n",
    "        )\n",
    " \n",
    "    def forward(self, x):\n",
    "        x = self.flatten(x)\n",
    "        logits = self.linear_relu_stack(x)\n",
    "        return logits"
   ]
  },
  {
   "cell_type": "code",
   "execution_count": 9,
   "metadata": {},
   "outputs": [
    {
     "name": "stderr",
     "output_type": "stream",
     "text": [
      "C:\\Users\\user\\anaconda3\\lib\\site-packages\\setuptools\\distutils_patch.py:25: UserWarning: Distutils was imported before Setuptools. This usage is discouraged and may exhibit undesirable behaviors or errors. Please use Setuptools' objects directly or at least import Setuptools first.\n",
      "  warnings.warn(\n"
     ]
    },
    {
     "name": "stdout",
     "output_type": "stream",
     "text": [
      "Using cuda device\n",
      "NeuralNetwork(\n",
      "  (flatten): Flatten(start_dim=1, end_dim=-1)\n",
      "  (linear_relu_stack): Sequential(\n",
      "    (0): Linear(in_features=2, out_features=5, bias=True)\n",
      "    (1): Sigmoid()\n",
      "    (2): Linear(in_features=5, out_features=2, bias=True)\n",
      "  )\n",
      ")\n"
     ]
    }
   ],
   "source": [
    "from torch.utils.tensorboard import SummaryWriter\n",
    "import torch\n",
    "device = 'cuda' if torch.cuda.is_available() else 'cpu'\n",
    "print('Using {} device'.format(device))\n",
    "\n",
    "model = NeuralNetwork()\n",
    "print(model)\n",
    "model = model.to(device)\n",
    "loss_fn = nn.CrossEntropyLoss()\n",
    "optimizer = torch.optim.Adam(model.parameters(), lr=0.01)\n",
    "\n",
    "writer = SummaryWriter(log_dir = \"logs/data\", filename_suffix = '.weekly_assignment_02')"
   ]
  },
  {
   "cell_type": "code",
   "execution_count": 10,
   "metadata": {},
   "outputs": [],
   "source": [
    "def train(dataloader, model, loss_fn, optimizer):\n",
    "    size = len(dataloader.dataset)\n",
    "    for batch, (X, y) in enumerate(dataloader):\n",
    "        X, y = X.to(device), y.to(device)\n",
    "        pred = model(X.float())\n",
    "        loss = loss_fn(pred, y.long())\n",
    " \n",
    "        optimizer.zero_grad()\n",
    "        loss.backward()\n",
    "        optimizer.step()\n",
    " \n",
    "        if batch % 100 == 0:\n",
    "            loss, current = loss.item(), batch * len(X)\n",
    "            print(f\"loss: {loss:>7f}  [{current:>5d}/{size:>5d}]\")\n",
    "            \n",
    "def test(dataloader, model, loss_fn):\n",
    "    size = len(dataloader.dataset)\n",
    "    num_batches = len(dataloader)\n",
    "    model.eval()\n",
    "    test_loss, correct = 0, 0\n",
    "    with torch.no_grad():\n",
    "        for X, y in dataloader:\n",
    "            X, y = X.to(device), y.to(device)\n",
    "            pred = model(X.float())\n",
    "            test_loss += loss_fn(pred, y.long()).item()\n",
    "            correct += (pred.argmax (1) == y).type(torch.float).sum().item()\n",
    "    test_loss /= num_batches\n",
    "    correct /= size\n",
    "    print(f\"Test Error: \\n Accuracy: {(100*correct):>0.1f}%, Avg loss: {test_loss:>8f} \\n\")\n",
    "    return (correct * 100, test_loss)"
   ]
  },
  {
   "cell_type": "code",
   "execution_count": 11,
   "metadata": {},
   "outputs": [
    {
     "name": "stdout",
     "output_type": "stream",
     "text": [
      "Epoch 1\n",
      "-------------------------------\n",
      "loss: 0.996868  [    0/ 7000]\n",
      "loss: 0.757516  [ 1000/ 7000]\n",
      "loss: 0.508667  [ 2000/ 7000]\n",
      "loss: 0.666450  [ 3000/ 7000]\n",
      "loss: 0.365322  [ 4000/ 7000]\n",
      "loss: 0.628475  [ 5000/ 7000]\n",
      "loss: 0.369445  [ 6000/ 7000]\n",
      "Test Error: \n",
      " Accuracy: 79.7%, Avg loss: 0.504855 \n",
      "\n",
      "Epoch 2\n",
      "-------------------------------\n",
      "loss: 0.500869  [    0/ 7000]\n",
      "loss: 0.496536  [ 1000/ 7000]\n",
      "loss: 0.509104  [ 2000/ 7000]\n",
      "loss: 0.275559  [ 3000/ 7000]\n",
      "loss: 0.975002  [ 4000/ 7000]\n",
      "loss: 0.620957  [ 5000/ 7000]\n",
      "loss: 0.606661  [ 6000/ 7000]\n",
      "Test Error: \n",
      " Accuracy: 79.7%, Avg loss: 0.472737 \n",
      "\n",
      "Epoch 3\n",
      "-------------------------------\n",
      "loss: 0.769131  [    0/ 7000]\n",
      "loss: 0.599388  [ 1000/ 7000]\n",
      "loss: 0.363681  [ 2000/ 7000]\n",
      "loss: 0.347753  [ 3000/ 7000]\n",
      "loss: 0.343289  [ 4000/ 7000]\n",
      "loss: 0.339508  [ 5000/ 7000]\n",
      "loss: 0.371278  [ 6000/ 7000]\n",
      "Test Error: \n",
      " Accuracy: 83.3%, Avg loss: 0.374352 \n",
      "\n",
      "Epoch 4\n",
      "-------------------------------\n",
      "loss: 0.254074  [    0/ 7000]\n",
      "loss: 0.441255  [ 1000/ 7000]\n",
      "loss: 0.381428  [ 2000/ 7000]\n",
      "loss: 0.333132  [ 3000/ 7000]\n",
      "loss: 0.159918  [ 4000/ 7000]\n",
      "loss: 0.409694  [ 5000/ 7000]\n",
      "loss: 0.374124  [ 6000/ 7000]\n",
      "Test Error: \n",
      " Accuracy: 82.6%, Avg loss: 0.365195 \n",
      "\n",
      "Epoch 5\n",
      "-------------------------------\n",
      "loss: 0.244823  [    0/ 7000]\n",
      "loss: 0.661487  [ 1000/ 7000]\n",
      "loss: 0.219455  [ 2000/ 7000]\n",
      "loss: 0.359717  [ 3000/ 7000]\n",
      "loss: 0.371926  [ 4000/ 7000]\n",
      "loss: 0.141377  [ 5000/ 7000]\n",
      "loss: 0.408294  [ 6000/ 7000]\n",
      "Test Error: \n",
      " Accuracy: 82.6%, Avg loss: 0.361423 \n",
      "\n",
      "Epoch 6\n",
      "-------------------------------\n",
      "loss: 0.499380  [    0/ 7000]\n",
      "loss: 0.867585  [ 1000/ 7000]\n",
      "loss: 0.202680  [ 2000/ 7000]\n",
      "loss: 0.384795  [ 3000/ 7000]\n",
      "loss: 0.214504  [ 4000/ 7000]\n",
      "loss: 0.186901  [ 5000/ 7000]\n",
      "loss: 0.345325  [ 6000/ 7000]\n",
      "Test Error: \n",
      " Accuracy: 83.2%, Avg loss: 0.363266 \n",
      "\n",
      "Epoch 7\n",
      "-------------------------------\n",
      "loss: 0.392080  [    0/ 7000]\n",
      "loss: 0.540072  [ 1000/ 7000]\n",
      "loss: 0.219374  [ 2000/ 7000]\n",
      "loss: 0.455224  [ 3000/ 7000]\n",
      "loss: 0.572964  [ 4000/ 7000]\n",
      "loss: 0.403508  [ 5000/ 7000]\n",
      "loss: 0.224275  [ 6000/ 7000]\n",
      "Test Error: \n",
      " Accuracy: 82.8%, Avg loss: 0.362348 \n",
      "\n",
      "Epoch 8\n",
      "-------------------------------\n",
      "loss: 0.367477  [    0/ 7000]\n",
      "loss: 0.441361  [ 1000/ 7000]\n",
      "loss: 0.375118  [ 2000/ 7000]\n",
      "loss: 0.389744  [ 3000/ 7000]\n",
      "loss: 0.846719  [ 4000/ 7000]\n",
      "loss: 0.226006  [ 5000/ 7000]\n",
      "loss: 0.639997  [ 6000/ 7000]\n",
      "Test Error: \n",
      " Accuracy: 83.0%, Avg loss: 0.360222 \n",
      "\n",
      "Epoch 9\n",
      "-------------------------------\n",
      "loss: 0.451499  [    0/ 7000]\n",
      "loss: 0.285377  [ 1000/ 7000]\n",
      "loss: 0.283982  [ 2000/ 7000]\n",
      "loss: 0.427465  [ 3000/ 7000]\n",
      "loss: 0.554615  [ 4000/ 7000]\n",
      "loss: 0.304258  [ 5000/ 7000]\n",
      "loss: 0.338065  [ 6000/ 7000]\n",
      "Test Error: \n",
      " Accuracy: 82.2%, Avg loss: 0.368365 \n",
      "\n",
      "Epoch 10\n",
      "-------------------------------\n",
      "loss: 0.691038  [    0/ 7000]\n",
      "loss: 0.707207  [ 1000/ 7000]\n",
      "loss: 0.304694  [ 2000/ 7000]\n",
      "loss: 0.366468  [ 3000/ 7000]\n",
      "loss: 0.396297  [ 4000/ 7000]\n",
      "loss: 0.261118  [ 5000/ 7000]\n",
      "loss: 0.446345  [ 6000/ 7000]\n",
      "Test Error: \n",
      " Accuracy: 86.2%, Avg loss: 0.319058 \n",
      "\n",
      "Epoch 11\n",
      "-------------------------------\n",
      "loss: 0.252610  [    0/ 7000]\n",
      "loss: 0.336522  [ 1000/ 7000]\n",
      "loss: 0.532162  [ 2000/ 7000]\n",
      "loss: 0.326340  [ 3000/ 7000]\n",
      "loss: 0.261507  [ 4000/ 7000]\n",
      "loss: 0.190481  [ 5000/ 7000]\n",
      "loss: 0.120715  [ 6000/ 7000]\n",
      "Test Error: \n",
      " Accuracy: 90.7%, Avg loss: 0.262024 \n",
      "\n",
      "Epoch 12\n",
      "-------------------------------\n",
      "loss: 0.225894  [    0/ 7000]\n",
      "loss: 0.285699  [ 1000/ 7000]\n",
      "loss: 0.489650  [ 2000/ 7000]\n",
      "loss: 0.248312  [ 3000/ 7000]\n",
      "loss: 0.285693  [ 4000/ 7000]\n",
      "loss: 0.449961  [ 5000/ 7000]\n",
      "loss: 0.150700  [ 6000/ 7000]\n",
      "Test Error: \n",
      " Accuracy: 92.0%, Avg loss: 0.228760 \n",
      "\n",
      "Epoch 13\n",
      "-------------------------------\n",
      "loss: 0.197038  [    0/ 7000]\n",
      "loss: 0.279471  [ 1000/ 7000]\n",
      "loss: 0.295206  [ 2000/ 7000]\n",
      "loss: 0.224152  [ 3000/ 7000]\n",
      "loss: 0.143760  [ 4000/ 7000]\n",
      "loss: 0.155790  [ 5000/ 7000]\n",
      "loss: 0.243175  [ 6000/ 7000]\n",
      "Test Error: \n",
      " Accuracy: 92.7%, Avg loss: 0.211607 \n",
      "\n",
      "Epoch 14\n",
      "-------------------------------\n",
      "loss: 0.382493  [    0/ 7000]\n",
      "loss: 0.317602  [ 1000/ 7000]\n",
      "loss: 0.174678  [ 2000/ 7000]\n",
      "loss: 0.180488  [ 3000/ 7000]\n",
      "loss: 0.105893  [ 4000/ 7000]\n",
      "loss: 0.175794  [ 5000/ 7000]\n",
      "loss: 0.172181  [ 6000/ 7000]\n",
      "Test Error: \n",
      " Accuracy: 93.4%, Avg loss: 0.196568 \n",
      "\n",
      "Epoch 15\n",
      "-------------------------------\n",
      "loss: 0.277976  [    0/ 7000]\n",
      "loss: 0.196971  [ 1000/ 7000]\n",
      "loss: 0.486446  [ 2000/ 7000]\n",
      "loss: 0.149611  [ 3000/ 7000]\n",
      "loss: 0.203778  [ 4000/ 7000]\n",
      "loss: 0.257847  [ 5000/ 7000]\n",
      "loss: 0.259540  [ 6000/ 7000]\n",
      "Test Error: \n",
      " Accuracy: 94.5%, Avg loss: 0.186806 \n",
      "\n",
      "Epoch 16\n",
      "-------------------------------\n",
      "loss: 0.269872  [    0/ 7000]\n",
      "loss: 0.108427  [ 1000/ 7000]\n",
      "loss: 0.205534  [ 2000/ 7000]\n",
      "loss: 0.090270  [ 3000/ 7000]\n",
      "loss: 0.116590  [ 4000/ 7000]\n",
      "loss: 0.179148  [ 5000/ 7000]\n",
      "loss: 0.131871  [ 6000/ 7000]\n",
      "Test Error: \n",
      " Accuracy: 94.2%, Avg loss: 0.179765 \n",
      "\n",
      "Epoch 17\n",
      "-------------------------------\n",
      "loss: 0.249922  [    0/ 7000]\n",
      "loss: 0.142986  [ 1000/ 7000]\n",
      "loss: 0.201613  [ 2000/ 7000]\n",
      "loss: 0.340034  [ 3000/ 7000]\n",
      "loss: 0.102980  [ 4000/ 7000]\n",
      "loss: 0.206298  [ 5000/ 7000]\n",
      "loss: 0.106276  [ 6000/ 7000]\n",
      "Test Error: \n",
      " Accuracy: 94.4%, Avg loss: 0.172964 \n",
      "\n",
      "Epoch 18\n",
      "-------------------------------\n",
      "loss: 0.120273  [    0/ 7000]\n",
      "loss: 0.143400  [ 1000/ 7000]\n",
      "loss: 0.140661  [ 2000/ 7000]\n",
      "loss: 0.127124  [ 3000/ 7000]\n",
      "loss: 0.173696  [ 4000/ 7000]\n",
      "loss: 0.076726  [ 5000/ 7000]\n",
      "loss: 0.082774  [ 6000/ 7000]\n",
      "Test Error: \n",
      " Accuracy: 94.8%, Avg loss: 0.163276 \n",
      "\n",
      "Epoch 19\n",
      "-------------------------------\n",
      "loss: 0.182406  [    0/ 7000]\n",
      "loss: 0.265706  [ 1000/ 7000]\n",
      "loss: 0.052555  [ 2000/ 7000]\n",
      "loss: 0.363212  [ 3000/ 7000]\n",
      "loss: 0.174602  [ 4000/ 7000]\n",
      "loss: 0.185265  [ 5000/ 7000]\n",
      "loss: 0.378436  [ 6000/ 7000]\n",
      "Test Error: \n",
      " Accuracy: 94.9%, Avg loss: 0.161747 \n",
      "\n",
      "Epoch 20\n",
      "-------------------------------\n",
      "loss: 0.088880  [    0/ 7000]\n",
      "loss: 0.264789  [ 1000/ 7000]\n",
      "loss: 0.088061  [ 2000/ 7000]\n",
      "loss: 0.033409  [ 3000/ 7000]\n",
      "loss: 0.381883  [ 4000/ 7000]\n",
      "loss: 0.266168  [ 5000/ 7000]\n",
      "loss: 0.061486  [ 6000/ 7000]\n",
      "Test Error: \n",
      " Accuracy: 94.7%, Avg loss: 0.152153 \n",
      "\n",
      "Epoch 21\n",
      "-------------------------------\n",
      "loss: 0.190719  [    0/ 7000]\n",
      "loss: 0.284866  [ 1000/ 7000]\n",
      "loss: 0.187345  [ 2000/ 7000]\n",
      "loss: 0.165823  [ 3000/ 7000]\n",
      "loss: 0.105524  [ 4000/ 7000]\n",
      "loss: 0.109870  [ 5000/ 7000]\n",
      "loss: 0.167203  [ 6000/ 7000]\n",
      "Test Error: \n",
      " Accuracy: 95.3%, Avg loss: 0.148115 \n",
      "\n",
      "Epoch 22\n",
      "-------------------------------\n",
      "loss: 0.137374  [    0/ 7000]\n",
      "loss: 0.188019  [ 1000/ 7000]\n",
      "loss: 0.115000  [ 2000/ 7000]\n",
      "loss: 0.130008  [ 3000/ 7000]\n",
      "loss: 0.071757  [ 4000/ 7000]\n",
      "loss: 0.115461  [ 5000/ 7000]\n",
      "loss: 0.273127  [ 6000/ 7000]\n",
      "Test Error: \n",
      " Accuracy: 95.3%, Avg loss: 0.141959 \n",
      "\n",
      "Epoch 23\n",
      "-------------------------------\n",
      "loss: 0.107454  [    0/ 7000]\n",
      "loss: 0.215459  [ 1000/ 7000]\n",
      "loss: 0.060186  [ 2000/ 7000]\n",
      "loss: 0.079706  [ 3000/ 7000]\n",
      "loss: 0.218818  [ 4000/ 7000]\n",
      "loss: 0.114958  [ 5000/ 7000]\n",
      "loss: 0.344638  [ 6000/ 7000]\n",
      "Test Error: \n",
      " Accuracy: 95.0%, Avg loss: 0.143051 \n",
      "\n",
      "Epoch 24\n",
      "-------------------------------\n",
      "loss: 0.083006  [    0/ 7000]\n",
      "loss: 0.235138  [ 1000/ 7000]\n",
      "loss: 0.084034  [ 2000/ 7000]\n",
      "loss: 0.309864  [ 3000/ 7000]\n",
      "loss: 0.139854  [ 4000/ 7000]\n",
      "loss: 0.169432  [ 5000/ 7000]\n",
      "loss: 0.106040  [ 6000/ 7000]\n",
      "Test Error: \n",
      " Accuracy: 94.0%, Avg loss: 0.150080 \n",
      "\n",
      "Epoch 25\n",
      "-------------------------------\n",
      "loss: 0.108160  [    0/ 7000]\n",
      "loss: 0.154749  [ 1000/ 7000]\n",
      "loss: 0.213429  [ 2000/ 7000]\n",
      "loss: 0.168686  [ 3000/ 7000]\n",
      "loss: 0.067075  [ 4000/ 7000]\n",
      "loss: 0.157535  [ 5000/ 7000]\n",
      "loss: 0.083881  [ 6000/ 7000]\n",
      "Test Error: \n",
      " Accuracy: 95.4%, Avg loss: 0.132816 \n",
      "\n",
      "Epoch 26\n",
      "-------------------------------\n",
      "loss: 0.257979  [    0/ 7000]\n",
      "loss: 0.036520  [ 1000/ 7000]\n",
      "loss: 0.107396  [ 2000/ 7000]\n",
      "loss: 0.099340  [ 3000/ 7000]\n",
      "loss: 0.108735  [ 4000/ 7000]\n",
      "loss: 0.154884  [ 5000/ 7000]\n",
      "loss: 0.035641  [ 6000/ 7000]\n",
      "Test Error: \n",
      " Accuracy: 95.6%, Avg loss: 0.134109 \n",
      "\n",
      "Epoch 27\n",
      "-------------------------------\n",
      "loss: 0.102196  [    0/ 7000]\n",
      "loss: 0.075965  [ 1000/ 7000]\n",
      "loss: 0.080018  [ 2000/ 7000]\n",
      "loss: 0.421250  [ 3000/ 7000]\n",
      "loss: 0.141914  [ 4000/ 7000]\n",
      "loss: 0.182666  [ 5000/ 7000]\n",
      "loss: 0.064884  [ 6000/ 7000]\n",
      "Test Error: \n",
      " Accuracy: 95.0%, Avg loss: 0.131403 \n",
      "\n",
      "Epoch 28\n",
      "-------------------------------\n",
      "loss: 0.159680  [    0/ 7000]\n",
      "loss: 0.159279  [ 1000/ 7000]\n"
     ]
    },
    {
     "name": "stdout",
     "output_type": "stream",
     "text": [
      "loss: 0.139326  [ 2000/ 7000]\n",
      "loss: 0.215338  [ 3000/ 7000]\n",
      "loss: 0.228206  [ 4000/ 7000]\n",
      "loss: 0.006702  [ 5000/ 7000]\n",
      "loss: 0.081320  [ 6000/ 7000]\n",
      "Test Error: \n",
      " Accuracy: 95.6%, Avg loss: 0.131426 \n",
      "\n",
      "Epoch 29\n",
      "-------------------------------\n",
      "loss: 0.175160  [    0/ 7000]\n",
      "loss: 0.157880  [ 1000/ 7000]\n",
      "loss: 0.226501  [ 2000/ 7000]\n",
      "loss: 0.039483  [ 3000/ 7000]\n",
      "loss: 0.258116  [ 4000/ 7000]\n",
      "loss: 0.151503  [ 5000/ 7000]\n",
      "loss: 0.102897  [ 6000/ 7000]\n",
      "Test Error: \n",
      " Accuracy: 95.9%, Avg loss: 0.121992 \n",
      "\n",
      "Epoch 30\n",
      "-------------------------------\n",
      "loss: 0.067329  [    0/ 7000]\n",
      "loss: 0.088146  [ 1000/ 7000]\n",
      "loss: 0.157608  [ 2000/ 7000]\n",
      "loss: 0.233730  [ 3000/ 7000]\n",
      "loss: 0.234247  [ 4000/ 7000]\n",
      "loss: 0.161165  [ 5000/ 7000]\n",
      "loss: 0.269532  [ 6000/ 7000]\n",
      "Test Error: \n",
      " Accuracy: 94.9%, Avg loss: 0.130114 \n",
      "\n"
     ]
    }
   ],
   "source": [
    "model = model.float()\n",
    "epochs = 30\n",
    "points = []\n",
    "accuracy = []\n",
    "loss = []\n",
    "for t in range(epochs):\n",
    "    print(f\"Epoch {t+1}\\n-------------------------------\")\n",
    "    train(train_dataloader, model, loss_fn, optimizer)\n",
    "    acc, lo = test(test_dataloader, model, loss_fn)\n",
    "    accuracy.append (acc)\n",
    "    points.append (t)\n",
    "    loss.append (lo)\n",
    "\n",
    "for i in range (epochs):\n",
    "    writer.add_scalars('accuracy_curve', {'accuracy':accuracy[i]}, i)\n",
    "    writer.add_scalars('loss_curve', {'loss':loss[i]}, i) "
   ]
  },
  {
   "cell_type": "markdown",
   "metadata": {
    "id": "r98XyJBtfVKO"
   },
   "source": [
    "Task 4. Plot the circle and distribution of points of sample size of 3000 around the origin at distance of 1. Points that was classified \"within a circle\" should be colored green and points that was classified as \"outside a circle\" should be colored red. \n",
    "![image.png](data:image/png;base64,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)"
   ]
  },
  {
   "cell_type": "code",
   "execution_count": 12,
   "metadata": {},
   "outputs": [
    {
     "data": {
      "image/png": "[encoded data removed]",
      "text/plain": [
       "<Figure size 360x360 with 1 Axes>"
      ]
     },
     "metadata": {
      "needs_background": "light"
     },
     "output_type": "display_data"
    }
   ],
   "source": [
    "import numpy as np\n",
    "import matplotlib.pyplot as plt\n",
    "\n",
    "x_index = 0\n",
    "y_index = 1\n",
    "\n",
    "# print(test_data.points, test_data.labels)\n",
    "color = np.array(['#f00', '#0f0'])\n",
    "\n",
    "plt.figure(figsize=(5, 5))\n",
    "plt.scatter(test_data.points[:, x_index], test_data.points[:, y_index], c=color[test_data.labels])\n",
    "plt.show()"
   ]
  },
  {
   "cell_type": "code",
   "execution_count": null,
   "metadata": {},
   "outputs": [],
   "source": []
  }
 ],
 "metadata": {
  "colab": {
   "collapsed_sections": [],
   "name": "Weekly Assignment 2.ipynb",
   "provenance": []
  },
  "kernelspec": {
   "display_name": "Python 3",
   "language": "python",
   "name": "python3"
  },
  "language_info": {
   "codemirror_mode": {
    "name": "ipython",
    "version": 3
   },
   "file_extension": ".py",
   "mimetype": "text/x-python",
   "name": "python",
   "nbconvert_exporter": "python",
   "pygments_lexer": "ipython3",
   "version": "3.8.3"
  }
 },
 "nbformat": 4,
 "nbformat_minor": 5
}
